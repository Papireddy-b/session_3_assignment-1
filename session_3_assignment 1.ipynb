{
 "cells": [
  {
   "cell_type": "code",
   "execution_count": 1,
   "metadata": {},
   "outputs": [
    {
     "name": "stdout",
     "output_type": "stream",
     "text": [
      "number can not be divided by zero(0)\n"
     ]
    }
   ],
   "source": [
    "# a function to compute 5/0 and use try/except to catch the exceptions.\n",
    "\n",
    "def try_except():\n",
    "    try:\n",
    "        result = 5 / 0\n",
    "        return result\n",
    "    except:\n",
    "        print(\"number can not be divided by zero(0)\")\n",
    "        \n",
    "def main():\n",
    "    \n",
    "    res = try_except()\n",
    "    \n",
    "if __name__=='__main__':main()\n",
    "    "
   ]
  },
  {
   "cell_type": "code",
   "execution_count": 2,
   "metadata": {},
   "outputs": [
    {
     "name": "stdout",
     "output_type": "stream",
     "text": [
      "Americans play Baseball\n",
      "Americans play Cricket\n",
      "Americans watch Baseball\n",
      "Americans watch Cricket\n",
      "Indians play Baseball\n",
      "Indians play Cricket\n",
      "Indians watch Baseball\n",
      "Indians watch Cricket\n"
     ]
    }
   ],
   "source": [
    "#Implement a Python program to generate all sentences where subject is in [\"Americans\",\n",
    "#\"Indians\"] and verb is in [\"Play\", \"watch\"] and the object is in [\"Baseball\",\"cricket\"].\n",
    "\n",
    "def main():\n",
    "    subjects=[\"Americans\",\"Indians\"]\n",
    "    verbs=[\"play\",\"watch\"]\n",
    "    objects=[\"Baseball\",\"Cricket\"]\n",
    "    for i in subjects:\n",
    "        for j in verbs:\n",
    "            for k in objects:\n",
    "                str1 =i+\" \"+j+\" \"+k\n",
    "                print(str1)\n",
    "                \n",
    "if __name__=='__main__':main()\n"
   ]
  },
  {
   "cell_type": "code",
   "execution_count": 3,
   "metadata": {},
   "outputs": [
    {
     "name": "stdout",
     "output_type": "stream",
     "text": [
      "when increasing is False \n",
      "\n",
      "[[ 9  3  1]\n",
      " [25  5  1]\n",
      " [16  4  1]]\n",
      "when increasing is true \n",
      "\n",
      "[[ 1  3  9]\n",
      " [ 1  5 25]\n",
      " [ 1  4 16]]\n"
     ]
    }
   ],
   "source": [
    "import numpy as np\n",
    "\n",
    "#Write a function so that the columns of the output matrix are powers of the input vector.\n",
    "#The order of the powers is determined by the increasing boolean argument. Specifically, when\n",
    "#increasing is False, the i-th output column is the input vector raised element-wise to the power\n",
    "#of N - i - 1.\n",
    "l=[3,5,4]\n",
    "n=len(l)\n",
    "a=np.array(l)\n",
    "def van(a,increasing=False):\n",
    "    b=[]\n",
    "    if increasing == False:\n",
    "        for i in range(0,len(a)):\n",
    "            for j in range(0,len(a)):\n",
    "                temp=a[i]**(n-j-1)\n",
    "                b.append(temp)\n",
    "    else:\n",
    "        for i in range(0,len(a)):\n",
    "            for j in range(len(a)-1,-1,-1):\n",
    "                temp=a[i]**(n-j-1)\n",
    "                b.append(temp)\n",
    "        \n",
    "    arr=np.array(b)\n",
    "    arr=arr.reshape(n,n)\n",
    "    return arr\n",
    "result=van(a)\n",
    "res = van(a,True)\n",
    "print(\"when increasing is False \\n\")\n",
    "print(result)\n",
    "print(\"when increasing is true \\n\")\n",
    "print(res)\n",
    "    "
   ]
  },
  {
   "cell_type": "code",
   "execution_count": null,
   "metadata": {
    "collapsed": true
   },
   "outputs": [],
   "source": [
    "\n",
    "    "
   ]
  }
 ],
 "metadata": {
  "kernelspec": {
   "display_name": "Python 3",
   "language": "python",
   "name": "python3"
  },
  "language_info": {
   "codemirror_mode": {
    "name": "ipython",
    "version": 3
   },
   "file_extension": ".py",
   "mimetype": "text/x-python",
   "name": "python",
   "nbconvert_exporter": "python",
   "pygments_lexer": "ipython3",
   "version": "3.6.3"
  }
 },
 "nbformat": 4,
 "nbformat_minor": 2
}
